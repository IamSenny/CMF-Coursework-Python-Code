{
 "cells": [
  {
   "cell_type": "code",
   "execution_count": 6,
   "id": "8c7e0553",
   "metadata": {},
   "outputs": [
    {
     "name": "stdout",
     "output_type": "stream",
     "text": [
      "Requirement already satisfied: yfinance in c:\\users\\olaseni\\anaconda3\\lib\\site-packages (0.1.84)\n",
      "Requirement already satisfied: numpy>=1.15 in c:\\users\\olaseni\\anaconda3\\lib\\site-packages (from yfinance) (1.21.5)\n",
      "Requirement already satisfied: requests>=2.26 in c:\\users\\olaseni\\anaconda3\\lib\\site-packages (from yfinance) (2.27.1)\n",
      "Requirement already satisfied: multitasking>=0.0.7 in c:\\users\\olaseni\\anaconda3\\lib\\site-packages (from yfinance) (0.0.11)\n",
      "Requirement already satisfied: lxml>=4.5.1 in c:\\users\\olaseni\\anaconda3\\lib\\site-packages (from yfinance) (4.8.0)\n",
      "Requirement already satisfied: appdirs>=1.4.4 in c:\\users\\olaseni\\anaconda3\\lib\\site-packages (from yfinance) (1.4.4)\n",
      "Requirement already satisfied: pandas>=0.24.0 in c:\\users\\olaseni\\anaconda3\\lib\\site-packages (from yfinance) (1.4.2)\n",
      "Requirement already satisfied: python-dateutil>=2.8.1 in c:\\users\\olaseni\\anaconda3\\lib\\site-packages (from pandas>=0.24.0->yfinance) (2.8.2)\n",
      "Requirement already satisfied: pytz>=2020.1 in c:\\users\\olaseni\\anaconda3\\lib\\site-packages (from pandas>=0.24.0->yfinance) (2021.3)\n",
      "Requirement already satisfied: six>=1.5 in c:\\users\\olaseni\\anaconda3\\lib\\site-packages (from python-dateutil>=2.8.1->pandas>=0.24.0->yfinance) (1.16.0)\n",
      "Requirement already satisfied: idna<4,>=2.5 in c:\\users\\olaseni\\anaconda3\\lib\\site-packages (from requests>=2.26->yfinance) (3.3)\n",
      "Requirement already satisfied: urllib3<1.27,>=1.21.1 in c:\\users\\olaseni\\anaconda3\\lib\\site-packages (from requests>=2.26->yfinance) (1.26.9)\n",
      "Requirement already satisfied: charset-normalizer~=2.0.0 in c:\\users\\olaseni\\anaconda3\\lib\\site-packages (from requests>=2.26->yfinance) (2.0.4)\n",
      "Requirement already satisfied: certifi>=2017.4.17 in c:\\users\\olaseni\\anaconda3\\lib\\site-packages (from requests>=2.26->yfinance) (2021.10.8)\n",
      "Note: you may need to restart the kernel to use updated packages.\n"
     ]
    }
   ],
   "source": [
    "pip install yfinance"
   ]
  },
  {
   "cell_type": "code",
   "execution_count": 74,
   "id": "4cf15f38",
   "metadata": {},
   "outputs": [],
   "source": [
    "import yfinance as yf\n",
    "import numpy as np\n",
    "import pandas as pd\n",
    "import matplotlib as mpl\n",
    "import matplotlib.pyplot as plt"
   ]
  },
  {
   "cell_type": "code",
   "execution_count": 4,
   "id": "ad03aa14",
   "metadata": {},
   "outputs": [
    {
     "name": "stdout",
     "output_type": "stream",
     "text": [
      "[*********************100%***********************]  1 of 1 completed\n"
     ]
    }
   ],
   "source": [
    "initial_data = yf.download(\"ALGO-USD\", start=\"2020-11-27\", end=\"2022-11-27\")"
   ]
  },
  {
   "cell_type": "code",
   "execution_count": 5,
   "id": "327481a0",
   "metadata": {},
   "outputs": [
    {
     "data": {
      "text/html": [
       "<div>\n",
       "<style scoped>\n",
       "    .dataframe tbody tr th:only-of-type {\n",
       "        vertical-align: middle;\n",
       "    }\n",
       "\n",
       "    .dataframe tbody tr th {\n",
       "        vertical-align: top;\n",
       "    }\n",
       "\n",
       "    .dataframe thead th {\n",
       "        text-align: right;\n",
       "    }\n",
       "</style>\n",
       "<table border=\"1\" class=\"dataframe\">\n",
       "  <thead>\n",
       "    <tr style=\"text-align: right;\">\n",
       "      <th></th>\n",
       "      <th>Open</th>\n",
       "      <th>High</th>\n",
       "      <th>Low</th>\n",
       "      <th>Close</th>\n",
       "      <th>Adj Close</th>\n",
       "      <th>Volume</th>\n",
       "    </tr>\n",
       "    <tr>\n",
       "      <th>Date</th>\n",
       "      <th></th>\n",
       "      <th></th>\n",
       "      <th></th>\n",
       "      <th></th>\n",
       "      <th></th>\n",
       "      <th></th>\n",
       "    </tr>\n",
       "  </thead>\n",
       "  <tbody>\n",
       "    <tr>\n",
       "      <th>2020-11-27</th>\n",
       "      <td>0.301860</td>\n",
       "      <td>0.316193</td>\n",
       "      <td>0.286580</td>\n",
       "      <td>0.299978</td>\n",
       "      <td>0.299978</td>\n",
       "      <td>80462546</td>\n",
       "    </tr>\n",
       "    <tr>\n",
       "      <th>2020-11-28</th>\n",
       "      <td>0.300161</td>\n",
       "      <td>0.323590</td>\n",
       "      <td>0.295796</td>\n",
       "      <td>0.313111</td>\n",
       "      <td>0.313111</td>\n",
       "      <td>69329866</td>\n",
       "    </tr>\n",
       "    <tr>\n",
       "      <th>2020-11-29</th>\n",
       "      <td>0.313154</td>\n",
       "      <td>0.322931</td>\n",
       "      <td>0.301708</td>\n",
       "      <td>0.317558</td>\n",
       "      <td>0.317558</td>\n",
       "      <td>59560847</td>\n",
       "    </tr>\n",
       "    <tr>\n",
       "      <th>2020-11-30</th>\n",
       "      <td>0.317549</td>\n",
       "      <td>0.333803</td>\n",
       "      <td>0.313799</td>\n",
       "      <td>0.328571</td>\n",
       "      <td>0.328571</td>\n",
       "      <td>93029960</td>\n",
       "    </tr>\n",
       "    <tr>\n",
       "      <th>2020-12-01</th>\n",
       "      <td>0.328857</td>\n",
       "      <td>0.346242</td>\n",
       "      <td>0.306817</td>\n",
       "      <td>0.309062</td>\n",
       "      <td>0.309062</td>\n",
       "      <td>101960294</td>\n",
       "    </tr>\n",
       "  </tbody>\n",
       "</table>\n",
       "</div>"
      ],
      "text/plain": [
       "                Open      High       Low     Close  Adj Close     Volume\n",
       "Date                                                                    \n",
       "2020-11-27  0.301860  0.316193  0.286580  0.299978   0.299978   80462546\n",
       "2020-11-28  0.300161  0.323590  0.295796  0.313111   0.313111   69329866\n",
       "2020-11-29  0.313154  0.322931  0.301708  0.317558   0.317558   59560847\n",
       "2020-11-30  0.317549  0.333803  0.313799  0.328571   0.328571   93029960\n",
       "2020-12-01  0.328857  0.346242  0.306817  0.309062   0.309062  101960294"
      ]
     },
     "execution_count": 5,
     "metadata": {},
     "output_type": "execute_result"
    }
   ],
   "source": [
    "initial_data.head()"
   ]
  },
  {
   "cell_type": "code",
   "execution_count": 6,
   "id": "6a17d17b",
   "metadata": {},
   "outputs": [
    {
     "data": {
      "text/plain": [
       "Date\n",
       "2020-11-27    0.299978\n",
       "2020-11-28    0.313111\n",
       "2020-11-29    0.317558\n",
       "2020-11-30    0.328571\n",
       "2020-12-01    0.309062\n",
       "Name: Adj Close, dtype: float64"
      ]
     },
     "execution_count": 6,
     "metadata": {},
     "output_type": "execute_result"
    }
   ],
   "source": [
    "initial_data['Adj Close'].head()"
   ]
  },
  {
   "cell_type": "code",
   "execution_count": 7,
   "id": "f0d51cb8",
   "metadata": {},
   "outputs": [
    {
     "name": "stdout",
     "output_type": "stream",
     "text": [
      "<class 'pandas.core.series.Series'>\n",
      "DatetimeIndex: 730 entries, 2020-11-27 to 2022-11-26\n",
      "Series name: Adj Close\n",
      "Non-Null Count  Dtype  \n",
      "--------------  -----  \n",
      "730 non-null    float64\n",
      "dtypes: float64(1)\n",
      "memory usage: 11.4 KB\n"
     ]
    }
   ],
   "source": [
    "data =  initial_data['Adj Close']\n",
    "data.info()"
   ]
  },
  {
   "cell_type": "code",
   "execution_count": 8,
   "id": "d5e69f3a",
   "metadata": {},
   "outputs": [
    {
     "data": {
      "text/plain": [
       "Date\n",
       "2020-11-27    0.299978\n",
       "2020-11-28    0.313111\n",
       "2020-11-29    0.317558\n",
       "2020-11-30    0.328571\n",
       "2020-12-01    0.309062\n",
       "Name: Adj Close, dtype: float64"
      ]
     },
     "execution_count": 8,
     "metadata": {},
     "output_type": "execute_result"
    }
   ],
   "source": [
    "data.head()"
   ]
  },
  {
   "cell_type": "code",
   "execution_count": 9,
   "id": "1ce8ad64",
   "metadata": {},
   "outputs": [
    {
     "data": {
      "text/plain": [
       "Date\n",
       "2022-11-22    0.240599\n",
       "2022-11-23    0.246718\n",
       "2022-11-24    0.242114\n",
       "2022-11-25    0.243600\n",
       "2022-11-26    0.240537\n",
       "Name: Adj Close, dtype: float64"
      ]
     },
     "execution_count": 9,
     "metadata": {},
     "output_type": "execute_result"
    }
   ],
   "source": [
    "data.tail()"
   ]
  },
  {
   "cell_type": "code",
   "execution_count": 10,
   "id": "16503287",
   "metadata": {},
   "outputs": [
    {
     "data": {
      "text/plain": [
       "array([<AxesSubplot:xlabel='Date'>], dtype=object)"
      ]
     },
     "execution_count": 10,
     "metadata": {},
     "output_type": "execute_result"
    },
    {
     "data": {
      "image/png": "[encoded data removed]",
      "text/plain": [
       "<Figure size 720x252 with 1 Axes>"
      ]
     },
     "metadata": {
      "needs_background": "light"
     },
     "output_type": "display_data"
    }
   ],
   "source": [
    "data.plot(figsize=(10, 3.5), subplots=True)"
   ]
  },
  {
   "cell_type": "code",
   "execution_count": 11,
   "id": "b66854e8",
   "metadata": {},
   "outputs": [
    {
     "data": {
      "text/plain": [
       "count    730.00\n",
       "mean       0.90\n",
       "std        0.53\n",
       "min        0.24\n",
       "25%        0.36\n",
       "50%        0.85\n",
       "75%        1.30\n",
       "max        2.38\n",
       "Name: Adj Close, dtype: float64"
      ]
     },
     "execution_count": 11,
     "metadata": {},
     "output_type": "execute_result"
    }
   ],
   "source": [
    "data.describe().round(2)"
   ]
  },
  {
   "cell_type": "code",
   "execution_count": 12,
   "id": "bcaf62aa",
   "metadata": {},
   "outputs": [
    {
     "data": {
      "text/plain": [
       "Date\n",
       "2020-11-27    0.299978\n",
       "2020-11-28    0.313111\n",
       "2020-11-29    0.317558\n",
       "2020-11-30    0.328571\n",
       "2020-12-01    0.309062\n",
       "Name: Adj Close, dtype: float64"
      ]
     },
     "execution_count": 12,
     "metadata": {},
     "output_type": "execute_result"
    }
   ],
   "source": [
    "df=data[-730:-1]\n",
    "df.head()"
   ]
  },
  {
   "cell_type": "code",
   "execution_count": 80,
   "id": "8905dead",
   "metadata": {},
   "outputs": [
    {
     "data": {
      "text/plain": [
       "Date\n",
       "2022-05-27         NaN\n",
       "2022-05-28    0.022383\n",
       "2022-05-29    0.028874\n",
       "2022-05-30    0.103840\n",
       "2022-05-31   -0.022355\n",
       "                ...   \n",
       "2022-11-21   -0.043948\n",
       "2022-11-22   -0.018539\n",
       "2022-11-23    0.025114\n",
       "2022-11-24   -0.018837\n",
       "2022-11-25    0.006119\n",
       "Name: Adj Close, Length: 183, dtype: float64"
      ]
     },
     "execution_count": 80,
     "metadata": {},
     "output_type": "execute_result"
    }
   ],
   "source": [
    "log_return = np.log(df / df.shift(1))\n",
    "log_return"
   ]
  },
  {
   "cell_type": "code",
   "execution_count": 81,
   "id": "8a0f97cb",
   "metadata": {},
   "outputs": [
    {
     "data": {
      "image/png": "[encoded data removed]",
      "text/plain": [
       "<Figure size 432x288 with 1 Axes>"
      ]
     },
     "metadata": {
      "needs_background": "light"
     },
     "output_type": "display_data"
    }
   ],
   "source": [
    "fig = plt.figure()\n",
    "plt.plot(log_return)\n",
    "#plt.plot(log_return, np.maximum(S2.38))\n",
    "plt.xlabel('Date')\n",
    "plt.ylabel('log return')\n",
    "plt.title('Log Return')\n",
    "plt.show()"
   ]
  },
  {
   "cell_type": "code",
   "execution_count": 14,
   "id": "d466f2cf",
   "metadata": {},
   "outputs": [
    {
     "name": "stdout",
     "output_type": "stream",
     "text": [
      "The annualized volatility is 176.69 %\n"
     ]
    }
   ],
   "source": [
    "vol = np.sqrt(729) * log_return.std()\n",
    "print('The annualized volatility is', round(vol*100,2), '%')"
   ]
  },
  {
   "cell_type": "code",
   "execution_count": 15,
   "id": "1f3a3647",
   "metadata": {},
   "outputs": [
    {
     "name": "stdout",
     "output_type": "stream",
     "text": [
      "[*********************100%***********************]  1 of 1 completed\n"
     ]
    }
   ],
   "source": [
    "initial_dataa = yf.download(\"ALGO-USD\", start=\"2022-05-27\", end=\"2022-11-27\")"
   ]
  },
  {
   "cell_type": "code",
   "execution_count": 16,
   "id": "7fa05703",
   "metadata": {},
   "outputs": [
    {
     "data": {
      "text/plain": [
       "Date\n",
       "2022-05-27    0.359436\n",
       "2022-05-28    0.367572\n",
       "2022-05-29    0.378340\n",
       "2022-05-30    0.419739\n",
       "2022-05-31    0.410460\n",
       "Name: Adj Close, dtype: float64"
      ]
     },
     "execution_count": 16,
     "metadata": {},
     "output_type": "execute_result"
    }
   ],
   "source": [
    "initial_dataa['Adj Close'].head()"
   ]
  },
  {
   "cell_type": "code",
   "execution_count": 17,
   "id": "3dd935a6",
   "metadata": {},
   "outputs": [
    {
     "name": "stdout",
     "output_type": "stream",
     "text": [
      "<class 'pandas.core.series.Series'>\n",
      "DatetimeIndex: 184 entries, 2022-05-27 to 2022-11-26\n",
      "Series name: Adj Close\n",
      "Non-Null Count  Dtype  \n",
      "--------------  -----  \n",
      "184 non-null    float64\n",
      "dtypes: float64(1)\n",
      "memory usage: 2.9 KB\n"
     ]
    }
   ],
   "source": [
    "data =  initial_dataa['Adj Close']\n",
    "data.info()"
   ]
  },
  {
   "cell_type": "code",
   "execution_count": 18,
   "id": "00f989f1",
   "metadata": {},
   "outputs": [
    {
     "data": {
      "text/plain": [
       "Date\n",
       "2022-05-27    0.359436\n",
       "2022-05-28    0.367572\n",
       "2022-05-29    0.378340\n",
       "2022-05-30    0.419739\n",
       "2022-05-31    0.410460\n",
       "Name: Adj Close, dtype: float64"
      ]
     },
     "execution_count": 18,
     "metadata": {},
     "output_type": "execute_result"
    }
   ],
   "source": [
    "data.head()"
   ]
  },
  {
   "cell_type": "code",
   "execution_count": 19,
   "id": "bd00673c",
   "metadata": {},
   "outputs": [
    {
     "data": {
      "text/plain": [
       "Date\n",
       "2022-11-22    0.240599\n",
       "2022-11-23    0.246718\n",
       "2022-11-24    0.242114\n",
       "2022-11-25    0.243600\n",
       "2022-11-26    0.240537\n",
       "Name: Adj Close, dtype: float64"
      ]
     },
     "execution_count": 19,
     "metadata": {},
     "output_type": "execute_result"
    }
   ],
   "source": [
    "data.tail()"
   ]
  },
  {
   "cell_type": "code",
   "execution_count": 20,
   "id": "5ffca452",
   "metadata": {},
   "outputs": [
    {
     "data": {
      "text/plain": [
       "array([<AxesSubplot:xlabel='Date'>], dtype=object)"
      ]
     },
     "execution_count": 20,
     "metadata": {},
     "output_type": "execute_result"
    },
    {
     "data": {
      "image/png": "[encoded data removed]",
      "text/plain": [
       "<Figure size 720x252 with 1 Axes>"
      ]
     },
     "metadata": {
      "needs_background": "light"
     },
     "output_type": "display_data"
    }
   ],
   "source": [
    "data.plot(figsize=(10, 3.5), subplots=True)"
   ]
  },
  {
   "cell_type": "code",
   "execution_count": 21,
   "id": "d74c03f4",
   "metadata": {},
   "outputs": [
    {
     "data": {
      "text/plain": [
       "count    184.00\n",
       "mean       0.33\n",
       "std        0.04\n",
       "min        0.24\n",
       "25%        0.31\n",
       "50%        0.33\n",
       "75%        0.35\n",
       "max        0.42\n",
       "Name: Adj Close, dtype: float64"
      ]
     },
     "execution_count": 21,
     "metadata": {},
     "output_type": "execute_result"
    }
   ],
   "source": [
    "data.describe().round(2)"
   ]
  },
  {
   "cell_type": "code",
   "execution_count": 22,
   "id": "61c8dd9a",
   "metadata": {},
   "outputs": [
    {
     "data": {
      "text/plain": [
       "Date\n",
       "2022-05-27    0.359436\n",
       "2022-05-28    0.367572\n",
       "2022-05-29    0.378340\n",
       "2022-05-30    0.419739\n",
       "2022-05-31    0.410460\n",
       "Name: Adj Close, dtype: float64"
      ]
     },
     "execution_count": 22,
     "metadata": {},
     "output_type": "execute_result"
    }
   ],
   "source": [
    "df=data[-184:-1]\n",
    "df.head()"
   ]
  },
  {
   "cell_type": "code",
   "execution_count": 23,
   "id": "1d48cb75",
   "metadata": {},
   "outputs": [
    {
     "data": {
      "text/plain": [
       "Date\n",
       "2022-05-27         NaN\n",
       "2022-05-28    0.022383\n",
       "2022-05-29    0.028874\n",
       "2022-05-30    0.103840\n",
       "2022-05-31   -0.022355\n",
       "                ...   \n",
       "2022-11-21   -0.043948\n",
       "2022-11-22   -0.018539\n",
       "2022-11-23    0.025114\n",
       "2022-11-24   -0.018837\n",
       "2022-11-25    0.006119\n",
       "Name: Adj Close, Length: 183, dtype: float64"
      ]
     },
     "execution_count": 23,
     "metadata": {},
     "output_type": "execute_result"
    }
   ],
   "source": [
    "log_return = np.log(df / df.shift(1))\n",
    "log_return"
   ]
  },
  {
   "cell_type": "code",
   "execution_count": 77,
   "id": "b21887f5",
   "metadata": {},
   "outputs": [
    {
     "data": {
      "image/png": "[encoded data removed]",
      "text/plain": [
       "<Figure size 432x288 with 1 Axes>"
      ]
     },
     "metadata": {
      "needs_background": "light"
     },
     "output_type": "display_data"
    }
   ],
   "source": [
    "fig = plt.figure()\n",
    "plt.plot(log_return)\n",
    "#plt.plot(log_return, np.maximum(S0.42))\n",
    "plt.xlabel('Date')\n",
    "plt.ylabel('log return')\n",
    "plt.title('Log Return')\n",
    "plt.show()"
   ]
  },
  {
   "cell_type": "code",
   "execution_count": 31,
   "id": "f078d9e9",
   "metadata": {},
   "outputs": [
    {
     "name": "stdout",
     "output_type": "stream",
     "text": [
      "The annualized volatility is 97.26 %\n"
     ]
    }
   ],
   "source": [
    "vol = np.sqrt(365) * log_return.std()\n",
    "print('The annualized volatility is', round(vol*100,2), '%')"
   ]
  },
  {
   "cell_type": "code",
   "execution_count": 30,
   "id": "45af9dcc",
   "metadata": {},
   "outputs": [
    {
     "data": {
      "text/plain": [
       "0.243599995970726"
      ]
     },
     "execution_count": 30,
     "metadata": {},
     "output_type": "execute_result"
    }
   ],
   "source": [
    "df[-1] #spot price"
   ]
  },
  {
   "cell_type": "code",
   "execution_count": 32,
   "id": "e072f714",
   "metadata": {},
   "outputs": [],
   "source": [
    "import numpy as np\n",
    "import pandas as pd\n",
    "import matplotlib.pyplot as plt\n",
    "import scipy.stats as si\n",
    "import yfinance as yf"
   ]
  },
  {
   "cell_type": "markdown",
   "id": "9b31d242",
   "metadata": {},
   "source": [
    "# European Option-Non Dividend Paying-Black Scholes Model"
   ]
  },
  {
   "cell_type": "code",
   "execution_count": 33,
   "id": "b6458714",
   "metadata": {},
   "outputs": [],
   "source": [
    "def euro_option_bs(S, K, T, r, vol, payoff):\n",
    "    \n",
    "    #S: spot price\n",
    "    #K: strike price\n",
    "    #T: time to maturity\n",
    "    #r: risk free rate #This is 10-year US Treasury Rate\n",
    "    #vol: volatility of underlying asset\n",
    "    #payoff: call or put\n",
    "    \n",
    "    d1 = (np.log(S / K) + (r + 0.5 * vol ** 2) * T) / (vol * np.sqrt(T))\n",
    "    d2 = (np.log(S / K) + (r - 0.5 * vol ** 2) * T) / (vol * np.sqrt(T))\n",
    "    if payoff == \"call\":\n",
    "        option_value = S * si.norm.cdf(d1, 0.0, 1.0) - K * np.exp(-r * T) * si.norm.cdf(d2, 0.0, 1.0)\n",
    "    elif payoff == \"put\":\n",
    "        option_value = - S * si.norm.cdf(-d1, 0.0, 1.0) + K * np.exp(-r * T) * si.norm.cdf(-d2, 0.0, 1.0)\n",
    "    \n",
    "    return option_value"
   ]
  },
  {
   "cell_type": "code",
   "execution_count": 28,
   "id": "c85f2e28",
   "metadata": {},
   "outputs": [],
   "source": [
    "S = 0.24359\n",
    "K = 0.26580\n",
    "T = 6/12\n",
    "r = 0.0368 # This is the 10-Year US Treasury Rate\n",
    "vol = 0.97"
   ]
  },
  {
   "cell_type": "code",
   "execution_count": 34,
   "id": "7c14449a",
   "metadata": {},
   "outputs": [
    {
     "name": "stdout",
     "output_type": "stream",
     "text": [
      "The BS call price is  0.06\n"
     ]
    }
   ],
   "source": [
    "call = euro_option_bs(0.24359, 0.26580, 6/12, 0.0368, 0.97, 'call')\n",
    "print('The BS call price is ', round(call, 2))"
   ]
  },
  {
   "cell_type": "code",
   "execution_count": 35,
   "id": "c47bf4bd",
   "metadata": {},
   "outputs": [],
   "source": [
    "S = np.linspace(0.22,0.55,11)\n",
    "cp = np.zeros((len(S),1))\n",
    "for i in range(len(S)):\n",
    "    cp[i] = euro_option_bs(S[i], 0.2435, 6/12, 0.0368, 0.97, 'call')"
   ]
  },
  {
   "cell_type": "code",
   "execution_count": 79,
   "id": "dc07f892",
   "metadata": {},
   "outputs": [
    {
     "data": {
      "text/plain": [
       "<matplotlib.legend.Legend at 0x1c592493a00>"
      ]
     },
     "execution_count": 79,
     "metadata": {},
     "output_type": "execute_result"
    },
    {
     "data": {
      "image/png": "[encoded data removed]",
      "text/plain": [
       "<Figure size 432x288 with 1 Axes>"
      ]
     },
     "metadata": {
      "needs_background": "light"
     },
     "output_type": "display_data"
    }
   ],
   "source": [
    "fig = plt.figure()\n",
    "plt.plot(S, cp, '-')\n",
    "plt.plot(S, np.maximum(S-0.2435,0), '--')\n",
    "plt.xlabel('Asset Price')\n",
    "plt.ylabel('Price')\n",
    "plt.title('European Call')\n",
    "plt.legend(['Option Price','Payoff at T'])"
   ]
  },
  {
   "cell_type": "code",
   "execution_count": 36,
   "id": "c2385917",
   "metadata": {},
   "outputs": [],
   "source": [
    "## Monte Carlo Simulation"
   ]
  },
  {
   "cell_type": "code",
   "execution_count": 37,
   "id": "2b5f7568",
   "metadata": {},
   "outputs": [],
   "source": [
    "def mcs_simulation_np(p):\n",
    "    M = p\n",
    "    I = p\n",
    "    dt = T / M \n",
    "    S = np.zeros((M + 1, I))\n",
    "    S[0] = S0 \n",
    "    rn = np.random.standard_normal(S.shape) \n",
    "    for t in range(1, M + 1): \n",
    "        S[t] = S[t-1] * np.exp((r - sigma ** 2 / 2) * dt + sigma * np.sqrt(dt) * rn[t]) \n",
    "    return S"
   ]
  },
  {
   "cell_type": "code",
   "execution_count": 38,
   "id": "3f66ecef",
   "metadata": {},
   "outputs": [],
   "source": [
    "T = 1\n",
    "r = 0.0368\n",
    "sigma = 0.97\n",
    "S0 = 0.24359\n",
    "K = 0.2658"
   ]
  },
  {
   "cell_type": "code",
   "execution_count": 47,
   "id": "9ebefac6",
   "metadata": {},
   "outputs": [],
   "source": [
    "S = mcs_simulation_np(1000)"
   ]
  },
  {
   "cell_type": "code",
   "execution_count": 48,
   "id": "8566f96f",
   "metadata": {},
   "outputs": [
    {
     "data": {
      "text/plain": [
       "array([[0.24359   , 0.23493057, 0.23382517, ..., 0.23832861, 0.23491558,\n",
       "        0.22875648],\n",
       "       [0.24359   , 0.23775923, 0.23432894, ..., 0.0635722 , 0.06312634,\n",
       "        0.06394747],\n",
       "       [0.24359   , 0.2463678 , 0.25864017, ..., 0.44961582, 0.44911319,\n",
       "        0.44259132],\n",
       "       ...,\n",
       "       [0.24359   , 0.2422546 , 0.23977842, ..., 0.0718445 , 0.07386136,\n",
       "        0.07296058],\n",
       "       [0.24359   , 0.23837262, 0.24308139, ..., 0.24969186, 0.24837486,\n",
       "        0.23731447],\n",
       "       [0.24359   , 0.23329263, 0.22888515, ..., 0.243626  , 0.24735415,\n",
       "        0.25155793]])"
      ]
     },
     "execution_count": 48,
     "metadata": {},
     "output_type": "execute_result"
    }
   ],
   "source": [
    "S = np.transpose(S)\n",
    "S"
   ]
  },
  {
   "cell_type": "code",
   "execution_count": 50,
   "id": "8a4c764c",
   "metadata": {},
   "outputs": [
    {
     "data": {
      "text/plain": [
       "Text(0.5, 1.0, 'Frequency distribution of the simulated end-of-period values')"
      ]
     },
     "execution_count": 50,
     "metadata": {},
     "output_type": "execute_result"
    },
    {
     "data": {
      "image/png": "[encoded data removed]",
      "text/plain": [
       "<Figure size 432x288 with 1 Axes>"
      ]
     },
     "metadata": {
      "needs_background": "light"
     },
     "output_type": "display_data"
    }
   ],
   "source": [
    "import matplotlib.pyplot as plt\n",
    "n, bins, patches = plt.hist(x=S[:,-1], bins='auto', color='#0504aa',alpha=0.7, rwidth=0.85)\n",
    "\n",
    "plt.grid(axis='y', alpha=0.75)\n",
    "plt.xlabel('S_T')\n",
    "plt.ylabel('Frequency')\n",
    "plt.title('Frequency distribution of the simulated end-of-period values')"
   ]
  },
  {
   "cell_type": "code",
   "execution_count": 52,
   "id": "4a8a91e9",
   "metadata": {},
   "outputs": [
    {
     "name": "stdout",
     "output_type": "stream",
     "text": [
      "European call 0.08648332654627225\n"
     ]
    }
   ],
   "source": [
    "c = np.mean(np.maximum(S[:,-1] - K,0))\n",
    "print('European call', str(c))"
   ]
  },
  {
   "cell_type": "markdown",
   "id": "3e6eece9",
   "metadata": {},
   "source": [
    "# GREEKS"
   ]
  },
  {
   "cell_type": "code",
   "execution_count": 90,
   "id": "368768ce",
   "metadata": {},
   "outputs": [],
   "source": [
    "import numpy as np\n",
    "import pandas as pd\n",
    "import matplotlib.pyplot as plt\n",
    "import scipy.stats as si"
   ]
  },
  {
   "cell_type": "markdown",
   "id": "5624e5b9",
   "metadata": {},
   "source": [
    "### Delta Greeks Determination"
   ]
  },
  {
   "cell_type": "code",
   "execution_count": 53,
   "id": "f2c3bc46",
   "metadata": {},
   "outputs": [],
   "source": [
    "def delta(S, K, T, r, q, vol, payoff):\n",
    "    \n",
    "    d1 = (np.log(S / K) + (r - q + 0.5 * vol ** 2) * T) / (vol * np.sqrt(T))\n",
    "    if payoff == \"call\":\n",
    "        delta = np.exp(-q * T) * si.norm.cdf(d1, 0.0, 1.0)\n",
    "    elif payoff == \"put\":\n",
    "        delta =  - np.exp(-q * T) * si.norm.cdf(-d1, 0.0, 1.0)\n",
    "    \n",
    "    return delta"
   ]
  },
  {
   "cell_type": "code",
   "execution_count": 54,
   "id": "63e3528e",
   "metadata": {},
   "outputs": [],
   "source": [
    "S = 0.24359\n",
    "K = 0.2658\n",
    "T = 6/12\n",
    "r = 0.0368\n",
    "q = 0\n",
    "vol = 0.97"
   ]
  },
  {
   "cell_type": "code",
   "execution_count": 55,
   "id": "57204da7",
   "metadata": {},
   "outputs": [
    {
     "data": {
      "text/plain": [
       "0.6116978617739579"
      ]
     },
     "execution_count": 55,
     "metadata": {},
     "output_type": "execute_result"
    }
   ],
   "source": [
    "delta(0.2435, 0.2583, 6/12, 0.0368, 0.00, 0.97, 'call')"
   ]
  },
  {
   "cell_type": "markdown",
   "id": "0c458126",
   "metadata": {},
   "source": [
    "## The implication of the above Delta is that for every $1 move in underlying asset, option price will change by $0.6116, Hence the higher the Delta the bigger the price change"
   ]
  },
  {
   "cell_type": "code",
   "execution_count": 95,
   "id": "a373bb8a",
   "metadata": {},
   "outputs": [],
   "source": [
    "S = np.linspace(0.22,0.55,11)\n",
    "Delta_Call = np.zeros((len(S),1))\n",
    "for i in range(len(S)):\n",
    "    Delta_Call [i] = delta(S[i], 0.2435, 6/12, 0.0368, 0.00, 0.97, 'call')"
   ]
  },
  {
   "cell_type": "code",
   "execution_count": 96,
   "id": "06532c9c",
   "metadata": {},
   "outputs": [
    {
     "data": {
      "text/plain": [
       "<matplotlib.legend.Legend at 0x1c592e2edf0>"
      ]
     },
     "execution_count": 96,
     "metadata": {},
     "output_type": "execute_result"
    },
    {
     "data": {
      "image/png": "[encoded data removed]",
      "text/plain": [
       "<Figure size 432x288 with 1 Axes>"
      ]
     },
     "metadata": {
      "needs_background": "light"
     },
     "output_type": "display_data"
    }
   ],
   "source": [
    "fig = plt.figure()\n",
    "plt.plot(S, Delta_Call, '-')\n",
    "plt.grid()\n",
    "plt.xlabel('Asset Price')\n",
    "plt.ylabel('Delta')\n",
    "plt.title('Delta')\n",
    "plt.legend(['Delta for Call',])"
   ]
  },
  {
   "cell_type": "markdown",
   "id": "fe472d97",
   "metadata": {},
   "source": [
    "# Gamma Greek Determination\n",
    "###Gamma, Γ, is the rate of change in the delta with respect to changes in the underlying price. Gamma is the second derivative of the value function with respect to the underlying price."
   ]
  },
  {
   "cell_type": "code",
   "execution_count": 57,
   "id": "0ab5cbea",
   "metadata": {},
   "outputs": [],
   "source": [
    "def gamma(S, K, T, r, q, vol, payoff):\n",
    "    \n",
    "    d1 = (np.log(S / K) + (r - q + 0.5 * vol ** 2) * T) / (vol * np.sqrt(T))\n",
    "    gamma = np.exp(- q * T) * si.norm.pdf(d1, 0.0, 1.0) / (vol * S * np.sqrt(T))\n",
    "    \n",
    "    return gamma"
   ]
  },
  {
   "cell_type": "code",
   "execution_count": 58,
   "id": "a39e2731",
   "metadata": {},
   "outputs": [
    {
     "data": {
      "text/plain": [
       "2.319720085517244"
      ]
     },
     "execution_count": 58,
     "metadata": {},
     "output_type": "execute_result"
    }
   ],
   "source": [
    "gamma(0.2435, 0.2658, 6/12, 0.0368, 0.00, 0.97, 'call')"
   ]
  },
  {
   "cell_type": "code",
   "execution_count": 141,
   "id": "7c6daf86",
   "metadata": {},
   "outputs": [],
   "source": [
    "##The above Gamma indicates that for every price change of $1 in the Algo Asset , Delta will change by 2.319. As a matter of fact, if a gamma change of 2.319 will cause an increment of delta by 0.6351 i.e.(0.6116+0.0232). Therefore, another $1 increase in underlying crypto asset will cause an option price increment by $0.5792"
   ]
  },
  {
   "cell_type": "code",
   "execution_count": 72,
   "id": "727be18d",
   "metadata": {},
   "outputs": [],
   "source": [
    "S = np.linspace(0.22,0.55,11)\n",
    "Gamma_Call = np.zeros((len(S),1))\n",
    "Gamma_Put = np.zeros((len(S),1))\n",
    "for i in range(len(S)):\n",
    "    Gamma_Call [i] = gamma(S[i], 0.2435, 6/12, 0.0368, 0.00, 0.97, 'call')"
   ]
  },
  {
   "cell_type": "code",
   "execution_count": 73,
   "id": "16fc5fad",
   "metadata": {},
   "outputs": [
    {
     "data": {
      "text/plain": [
       "<matplotlib.legend.Legend at 0x2184331f520>"
      ]
     },
     "execution_count": 73,
     "metadata": {},
     "output_type": "execute_result"
    },
    {
     "data": {
      "image/png": "[encoded data removed]",
      "text/plain": [
       "<Figure size 432x288 with 1 Axes>"
      ]
     },
     "metadata": {
      "needs_background": "light"
     },
     "output_type": "display_data"
    }
   ],
   "source": [
    "fig = plt.figure()\n",
    "plt.plot(S, Gamma_Call, '-')\n",
    "plt.grid()\n",
    "plt.xlabel('Asset Price')\n",
    "plt.ylabel('Gamma')\n",
    "plt.title('Gamma')\n",
    "plt.legend(['Gamma for Call'])"
   ]
  },
  {
   "cell_type": "markdown",
   "id": "b3681562",
   "metadata": {},
   "source": [
    "#Speed Greek Determination\n",
    "\n",
    "Speed measures the rate of change in Gamma with respect to changes in the underlying price."
   ]
  },
  {
   "cell_type": "code",
   "execution_count": 61,
   "id": "a18cfd15",
   "metadata": {},
   "outputs": [],
   "source": [
    "def speed(S, K, T, r, q, vol, payoff):\n",
    "    \n",
    "    d1 = (np.log(S / K) + (r - q + 0.5 * vol ** 2) * T) / (vol * np.sqrt(T))\n",
    "    speed = - np.exp(-q * T) * si.norm.pdf(d1, 0.0, 1.0) / ((vol **2) * (S**2) * np.sqrt(T)) * (d1 + vol * np.sqrt(T))\n",
    "    \n",
    "    return speed"
   ]
  },
  {
   "cell_type": "code",
   "execution_count": 63,
   "id": "9272bfdd",
   "metadata": {},
   "outputs": [
    {
     "data": {
      "text/plain": [
       "-9.113200675499767"
      ]
     },
     "execution_count": 63,
     "metadata": {},
     "output_type": "execute_result"
    }
   ],
   "source": [
    "speed(0.2435, 0.2658, 6/12, 0.0368, 0.00, 0.97, 'call')"
   ]
  },
  {
   "cell_type": "code",
   "execution_count": 64,
   "id": "5e6bdec1",
   "metadata": {},
   "outputs": [],
   "source": [
    "S = np.linspace(0.22,0.55,11)\n",
    "Speed_Call = np.zeros((len(S),1))\n",
    "Speed_Put = np.zeros((len(S),1))\n",
    "for i in range(len(S)):\n",
    "    Speed_Call [i] = speed(S[i], 0.2435, 6/12, 0.0368, 0.00, 0.97, 'call')"
   ]
  },
  {
   "cell_type": "code",
   "execution_count": 69,
   "id": "f071047f",
   "metadata": {},
   "outputs": [
    {
     "data": {
      "text/plain": [
       "<matplotlib.legend.Legend at 0x218352d0220>"
      ]
     },
     "execution_count": 69,
     "metadata": {},
     "output_type": "execute_result"
    },
    {
     "data": {
      "image/png": "[encoded data removed]",
      "text/plain": [
       "<Figure size 432x288 with 1 Axes>"
      ]
     },
     "metadata": {
      "needs_background": "light"
     },
     "output_type": "display_data"
    }
   ],
   "source": [
    "fig = plt.figure()\n",
    "plt.plot(S, Speed_Call, '-')\n",
    "plt.grid()\n",
    "plt.xlabel('Asset Price')\n",
    "plt.ylabel('Speed')\n",
    "plt.title('Speed')\n",
    "plt.legend([' for Call'])"
   ]
  },
  {
   "cell_type": "markdown",
   "id": "253f69d3",
   "metadata": {},
   "source": [
    "# Theta\n",
    "Theta, 𝜃, is the measures sensitivity of the value of the derivative to the passage of time (see Option time value): the \"time decay\"."
   ]
  },
  {
   "cell_type": "code",
   "execution_count": 65,
   "id": "eb328ccf",
   "metadata": {},
   "outputs": [],
   "source": [
    "def theta(S, K, T, r, q, vol, payoff):\n",
    "    \n",
    "    d1 = (np.log(S / K) + (r - q + 0.5 * vol ** 2) * T) / (vol * np.sqrt(T))\n",
    "    d2 = (np.log(S / K) + (r - q - 0.5 * vol ** 2) * T) / (vol * np.sqrt(T))\n",
    "    if payoff == \"call\":\n",
    "        theta = vol * S * np.exp(-q * T) * si.norm.pdf(d1, 0.0, 1.0) / (2 * np.sqrt(T)) - q * S * np.exp(-q * T) * si.norm.cdf(d1, 0.0, 1.0) + r * K * np.exp(-r * T) * si.norm.cdf(d2, 0.0, 1.0)\n",
    "    elif payoff == \"put\":\n",
    "        theta = vol * S * np.exp(-q * T) * si.norm.pdf(-d1, 0.0, 1.0) / (2 * np.sqrt(T)) - q * S * np.exp(-q * T) * si.norm.cdf(-d1, 0.0, 1.0) + r * K * np.exp(-r * T) * si.norm.cdf(-d2, 0.0, 1.0)\n",
    "    \n",
    "    return theta"
   ]
  },
  {
   "cell_type": "code",
   "execution_count": 66,
   "id": "203fac68",
   "metadata": {},
   "outputs": [
    {
     "data": {
      "text/plain": [
       "0.06786161566036791"
      ]
     },
     "execution_count": 66,
     "metadata": {},
     "output_type": "execute_result"
    }
   ],
   "source": [
    "theta(0.2435, 0.2658, 6/12, 0.0368, 0.00, 0.97, 'call')"
   ]
  },
  {
   "cell_type": "code",
   "execution_count": 67,
   "id": "3de29f1c",
   "metadata": {},
   "outputs": [],
   "source": [
    "T = np.linspace(0.2,3,12)\n",
    "theta_Call = np.zeros((len(T),1))\n",
    "theta_Put = np.zeros((len(T),1))\n",
    "for i in range(len(T)):\n",
    "    theta_Call [i] = theta(T[i], 0.2435, 6/12, 0.0368, 0.00, 0.97, 'call')"
   ]
  },
  {
   "cell_type": "code",
   "execution_count": 68,
   "id": "fbb469e7",
   "metadata": {},
   "outputs": [
    {
     "data": {
      "text/plain": [
       "<matplotlib.legend.Legend at 0x21833e3c040>"
      ]
     },
     "execution_count": 68,
     "metadata": {},
     "output_type": "execute_result"
    },
    {
     "data": {
      "image/png": "[encoded data removed]",
      "text/plain": [
       "<Figure size 432x288 with 1 Axes>"
      ]
     },
     "metadata": {
      "needs_background": "light"
     },
     "output_type": "display_data"
    }
   ],
   "source": [
    "fig = plt.figure()\n",
    "plt.plot(T, theta_Call, '-')\n",
    "plt.grid()\n",
    "plt.xlabel('Time to Expiry')\n",
    "plt.ylabel('Theta')\n",
    "plt.title('Theta')\n",
    "plt.legend(['Theta for Call'])"
   ]
  },
  {
   "cell_type": "markdown",
   "id": "1787b488",
   "metadata": {},
   "source": [
    "# #Rho \n",
    "This measures sensitivity to the interest rate: it is the derivative of the option value with respect to the risk free interest rate (for the relevant outstanding term)."
   ]
  },
  {
   "cell_type": "code",
   "execution_count": 115,
   "id": "279388f4",
   "metadata": {},
   "outputs": [],
   "source": [
    "def rho(S, K, T, r, q, vol, payoff):\n",
    "    \n",
    "    d1 = (np.log(S / K) + (r - q + 0.5 * vol ** 2) * T) / (vol * np.sqrt(T))\n",
    "    d2 = (np.log(S / K) + (r - q - 0.5 * vol ** 2) * T) / (vol * np.sqrt(T))\n",
    "    if payoff == \"call\":\n",
    "        rho =  K * T * np.exp(-r * T) * si.norm.cdf(d2, 0.0, 1.0)\n",
    "    elif payoff == \"put\":\n",
    "        rho = - K * T * np.exp(-r * T) * si.norm.cdf(-d2, 0.0, 1.0)\n",
    "    \n",
    "    return rho"
   ]
  },
  {
   "cell_type": "code",
   "execution_count": 116,
   "id": "84c962c3",
   "metadata": {},
   "outputs": [
    {
     "data": {
      "text/plain": [
       "0.04287028664225638"
      ]
     },
     "execution_count": 116,
     "metadata": {},
     "output_type": "execute_result"
    }
   ],
   "source": [
    "rho(0.2435, 0.2658, 6/12, 0.0368, 0.00, 0.97, 'call')"
   ]
  },
  {
   "cell_type": "code",
   "execution_count": 117,
   "id": "d01812fc",
   "metadata": {},
   "outputs": [],
   "source": [
    "r = np.linspace(0,0.1,12)\n",
    "rho_Call = np.zeros((len(r),1))\n",
    "for i in range(len(r)):\n",
    "    rho_Call [i] = rho(0.2435, 0.2658, 6/12, r[i], 0.0368, 0.97, 'call')"
   ]
  },
  {
   "cell_type": "code",
   "execution_count": 119,
   "id": "50e47771",
   "metadata": {},
   "outputs": [
    {
     "data": {
      "text/plain": [
       "<matplotlib.legend.Legend at 0x1c593081a30>"
      ]
     },
     "execution_count": 119,
     "metadata": {},
     "output_type": "execute_result"
    },
    {
     "data": {
      "image/png": "[encoded data removed]",
      "text/plain": [
       "<Figure size 432x288 with 1 Axes>"
      ]
     },
     "metadata": {
      "needs_background": "light"
     },
     "output_type": "display_data"
    }
   ],
   "source": [
    "fig = plt.figure()\n",
    "plt.plot(r, rho_Call, '-')\n",
    "plt.grid()\n",
    "plt.xlabel('interest rate')\n",
    "plt.ylabel('Rho')\n",
    "plt.title('Rho')\n",
    "plt.legend(['Rho for Call'])"
   ]
  },
  {
   "cell_type": "code",
   "execution_count": null,
   "id": "b1476f7c",
   "metadata": {},
   "outputs": [],
   "source": []
  }
 ],
 "metadata": {
  "kernelspec": {
   "display_name": "Python 3 (ipykernel)",
   "language": "python",
   "name": "python3"
  },
  "language_info": {
   "codemirror_mode": {
    "name": "ipython",
    "version": 3
   },
   "file_extension": ".py",
   "mimetype": "text/x-python",
   "name": "python",
   "nbconvert_exporter": "python",
   "pygments_lexer": "ipython3",
   "version": "3.9.12"
  }
 },
 "nbformat": 4,
 "nbformat_minor": 5
}
